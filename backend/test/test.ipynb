{
 "cells": [
  {
   "cell_type": "code",
   "execution_count": 1,
   "metadata": {},
   "outputs": [
    {
     "ename": "ModuleNotFoundError",
     "evalue": "No module named 'pandas'",
     "output_type": "error",
     "traceback": [
      "\u001b[31m---------------------------------------------------------------------------\u001b[39m",
      "\u001b[31mModuleNotFoundError\u001b[39m                       Traceback (most recent call last)",
      "\u001b[36mCell\u001b[39m\u001b[36m \u001b[39m\u001b[32mIn[1]\u001b[39m\u001b[32m, line 1\u001b[39m\n\u001b[32m----> \u001b[39m\u001b[32m1\u001b[39m \u001b[38;5;28;01mimport\u001b[39;00m\u001b[38;5;250m \u001b[39m\u001b[34;01mpandas\u001b[39;00m\u001b[38;5;250m \u001b[39m\u001b[38;5;28;01mas\u001b[39;00m\u001b[38;5;250m \u001b[39m\u001b[34;01mpd\u001b[39;00m\n\u001b[32m      2\u001b[39m \u001b[38;5;28;01mimport\u001b[39;00m\u001b[38;5;250m \u001b[39m\u001b[34;01mmatplotlib\u001b[39;00m\u001b[34;01m.\u001b[39;00m\u001b[34;01mpyplot\u001b[39;00m\u001b[38;5;250m \u001b[39m\u001b[38;5;28;01mas\u001b[39;00m\u001b[38;5;250m \u001b[39m\u001b[34;01mplt\u001b[39;00m\n\u001b[32m      3\u001b[39m \u001b[38;5;28;01mimport\u001b[39;00m\u001b[38;5;250m \u001b[39m\u001b[34;01mseaborn\u001b[39;00m\u001b[38;5;250m \u001b[39m\u001b[38;5;28;01mas\u001b[39;00m\u001b[38;5;250m \u001b[39m\u001b[34;01msns\u001b[39;00m\n",
      "\u001b[31mModuleNotFoundError\u001b[39m: No module named 'pandas'"
     ]
    }
   ],
   "source": [
    "import pandas as pd\n",
    "import matplotlib.pyplot as plt\n",
    "import seaborn as sns\n",
    "import platform\n",
    "import matplotlib.font_manager as fm\n",
    "\n",
    "# CSV 불러오기\n",
    "local_df = pd.read_csv(\"./test_results.csv\")\n",
    "prod_df = pd.read_csv(\"./test_results_prod.csv\")\n",
    "local_df[\"env\"] = \"local\"\n",
    "prod_df[\"env\"] = \"prod\"\n",
    "merged_df = pd.concat([local_df, prod_df], ignore_index=True)\n",
    "\n",
    "# ✅ 한글 폰트 설정\n",
    "def set_korean_font():\n",
    "    system = platform.system()\n",
    "    if system == \"Windows\":\n",
    "        plt.rcParams['font.family'] = 'Malgun Gothic'\n",
    "    elif system == \"Darwin\":\n",
    "        plt.rcParams['font.family'] = 'AppleGothic'\n",
    "    else:  # Linux\n",
    "        font_path = \"/usr/share/fonts/truetype/nanum/NanumGothic.ttf\"\n",
    "        if not fm.findSystemFonts(fontpaths=[font_path]):\n",
    "            print(\"❗ NanumGothic 폰트가 설치되어 있어야 한글이 깨지지 않아요.\")\n",
    "        else:\n",
    "            fm.fontManager.addfont(font_path)\n",
    "            plt.rcParams['font.family'] = 'NanumGothic'\n",
    "\n",
    "set_korean_font()\n",
    "plt.rcParams['axes.unicode_minus'] = False\n",
    "\n",
    "# ✅ 시각화 및 이미지 저장\n",
    "plt.figure(figsize=(12, 6))\n",
    "sns.barplot(data=merged_df, x=\"question\", y=\"time_sec\", hue=\"env\")\n",
    "plt.title(\"Local vs Prod 응답 시간 비교\", fontsize=14)\n",
    "plt.xlabel(\"질문\", fontsize=12)\n",
    "plt.ylabel(\"응답 시간 (초)\", fontsize=12)\n",
    "plt.xticks(rotation=45, ha='right')\n",
    "plt.tight_layout()\n",
    "plt.grid(True)\n",
    "plt.savefig(\"rag_speed_comparison.png\", dpi=300)\n",
    "plt.show()\n"
   ]
  },
  {
   "cell_type": "code",
   "execution_count": 3,
   "metadata": {},
   "outputs": [
    {
     "name": "stderr",
     "output_type": "stream",
     "text": [
      "C:\\Users\\sokch\\AppData\\Local\\Temp\\ipykernel_21616\\2638706693.py:9: LangChainDeprecationWarning: The class `Chroma` was deprecated in LangChain 0.2.9 and will be removed in 1.0. An updated version of the class exists in the :class:`~langchain-chroma package and should be used instead. To use it run `pip install -U :class:`~langchain-chroma` and import as `from :class:`~langchain_chroma import Chroma``.\n",
      "  vectorstore = Chroma(\n",
      "Failed to send telemetry event ClientStartEvent: capture() takes 1 positional argument but 3 were given\n",
      "Failed to send telemetry event ClientCreateCollectionEvent: capture() takes 1 positional argument but 3 were given\n",
      "Failed to send telemetry event CollectionQueryEvent: capture() takes 1 positional argument but 3 were given\n"
     ]
    }
   ],
   "source": [
    "# ✅ Step 1: 벡터스토어 로딩\n",
    "from langchain_community.vectorstores import Chroma\n",
    "from langchain_openai import OpenAIEmbeddings\n",
    "from dotenv import load_dotenv\n",
    "load_dotenv()\n",
    "\n",
    "YOUR_CHROMA_PATH = r\"../chroma_db\"\n",
    "embedding = OpenAIEmbeddings()\n",
    "vectorstore = Chroma(\n",
    "    persist_directory=YOUR_CHROMA_PATH,  # 예: \"../chroma_db\"\n",
    "    embedding_function=embedding\n",
    ")\n",
    "retriever = vectorstore.as_retriever(\n",
    "    search_type=\"mmr\",\n",
    "    search_kwargs={\"k\": 3, \"fetch_k\": 5}\n",
    ")\n",
    "\n",
    "# ✅ Step 2: 검색 결과 + 유사도 점수 확인 함수\n",
    "def show_similarity_results(query, retriever, topk=3):\n",
    "    results = retriever.vectorstore.similarity_search_with_score(query, k=topk)\n",
    "    for i, (doc, score) in enumerate(results, 1):\n",
    "        print(f\"[{i}] Score: {score:.4f}\")\n",
    "        print(f\"→ 요약: {doc.page_content[:100]}...\")\n",
    "        print(f\"→ 메타: {doc.metadata}\")\n",
    "        print()\n",
    "\n",
    "# ✅ Step 3: 테스트 질의 실행\n",
    "show_similarity_results(\"전세 보증금 관련 정책\", retriever)\n"
   ]
  },
  {
   "cell_type": "code",
   "execution_count": null,
   "metadata": {},
   "outputs": [],
   "source": []
  }
 ],
 "metadata": {
  "kernelspec": {
   "display_name": "youth-chatbot",
   "language": "python",
   "name": "python3"
  },
  "language_info": {
   "codemirror_mode": {
    "name": "ipython",
    "version": 3
   },
   "file_extension": ".py",
   "mimetype": "text/x-python",
   "name": "python",
   "nbconvert_exporter": "python",
   "pygments_lexer": "ipython3",
   "version": "3.11.13"
  }
 },
 "nbformat": 4,
 "nbformat_minor": 2
}
